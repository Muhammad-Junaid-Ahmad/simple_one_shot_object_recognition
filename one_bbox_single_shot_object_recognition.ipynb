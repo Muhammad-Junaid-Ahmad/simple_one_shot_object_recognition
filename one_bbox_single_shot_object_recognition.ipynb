{
  "cells": [
    {
      "cell_type": "markdown",
      "metadata": {
        "id": "5Vu93d2olS3m"
      },
      "source": [
        "# Design and Train an object detector to detect objects\n",
        "\n",
        "You have to design and implement a Training Pipeline that can train, test and visualize the model using the dataset provided.\n",
        "\n",
        "## Assignment Protocols\n",
        "\n",
        "- We expect it to take ~4 hours, with an extra 15 min for clear loom explanation(s)\n",
        "  - The assessment is timeboxed at 5 hours total in a single block. So please plan accordingly\n",
        "- You need to use Google Collaboratory to run and edit this notebook\n",
        "- You can only use Python as a programming Language\n",
        "- You cannot take help from any other person\n",
        "- You can use Google to search for references\n",
        "- You can not search on google for design-related things, like what should be loss function, or what should be model architecture.\n",
        "  - But you can use pre-trained backbones from PyTorch\n",
        "- Record a 5-10 mins of code walkthrough of the work you have done. You can use Loom Platform (https://www.loom.com) to record the video.\n",
        "  - Design Decisions\n",
        "    - Model Design which layers and activation functions you used and why\n",
        "    - Loss function, which loss functions you used and why\n",
        "    - Metrics, which metrics and why\n",
        "  - Any optimizations you have made to the codebase\n",
        "  - How you implemented resume functionality, what were the things you thought would be needed to resume training from exact same point\n",
        "  - Explain what parts of the assessment are completed and what is missing?\n",
        "  - Make sure to submit the screen recording link in the submission after you are done recording\n",
        "  - Please note that the free plan on Loom only allows for videos up to 5 minutes in length. As such, you may need to record two separate 5-minute videos.\n",
        "- [NO SUBMISSION WILL BE ACCEPTED WITHOUT]\n",
        "  - Trained best model weights\n",
        "  - Visualize Function in the Notebook\n",
        "  - Code Walk-through video\n",
        "\n",
        "## Task Details\n",
        "Design a Training Pipeline to train a object detector with following specs or assumptions:\n",
        "- Implement & Design Model\n",
        "  - You can use any backbone\n",
        "    - Either from PyTorch (torhvision) or any resource online\n",
        "    - But you need to design head your self (head means how you will use features of the back bone and get the desired outputs)\n",
        "  - Model needs to detect one object in each image\n",
        "  - Model should output following for each image passed as input:\n",
        "    - Whether we have an object or not\n",
        "    - Where is the object?\n",
        "      - The bounding box output format should be xmin, ymin, xmax, ymax\n",
        "      - It is not necessary the model is trained to output exactly this format but the visualize function which shows output should output in this format\n",
        "    - Either the object is a cat or dog?\n",
        "    - And which specie the object belongs to? There are in total 9 species: \n",
        "      - Cat [3 species]:\n",
        "        - Abyssinian\n",
        "        - Birman\n",
        "        - Persian\n",
        "      - Dog [6 species]\n",
        "        - american_bulldog\n",
        "        - american_pit_bull_terrier\n",
        "        - basset_hound\n",
        "        - beagle\n",
        "        - chihuahua\n",
        "        - pomeranian\n",
        "- Implement Custom Dataloader\n",
        "  - This is obvious as dataset is in a unique format any predifined dataloader wont work\n",
        "  - Follow best practices of writing custom dataloaders\n",
        "  - Details of the format of the dataset are defined in the Dataset Details section below\n",
        "  - Add needed pre-processing that you think would help train a better model or would help as we are using pre-trained weights as starting point\n",
        "  - Add augmentations that you think would help train a better model\n",
        "- Implement Loss Function\n",
        "  - Design and implement a loss function that can handle all of the outputs we have\n",
        "  - You can use pytorch built-in loss functions\n",
        "  - There are many scenarios which you need to handle, which one can understand from the dataset details and the model design\n",
        "- Implement Test Function\n",
        "  - The test function should be able to run the model on the validation set and output the metrics for all the outputs of the model\n",
        "  - Select the metrics carefully, there are many scenarios which can change the selection of a metric\n",
        "  - Keep in mind there are multiple outputs, you would need a metric for each output\n",
        "  - [NOTE] You don't need to implement metrics for the bounding box output as it can take more time than provided for this assessment. But please add details of the metrics you would have implemented in your code-walk through loom video.\n",
        "- Update Resume Training Functionality using the best weights\n",
        "  - Current script does not have save best weights functionality\n",
        "  - The code should be able to resume training from exactly same point from where the training was stopped if model weights file is passed\n",
        "  - Keep in mind you can not resume training from same point by just loading weights of the model\n",
        "- Implement a visualize function [Most important, without this no submission will be accepted]\n",
        "  - The input of the function should be path of a folder with images and the weight file\n",
        "    - Also the output folder path to save outputs\n",
        "  - This function should return a dictionary of dictionaries with following details for each image:\n",
        "    - {\n",
        "        \"has_object\": True,\n",
        "        \"cat_or_dog\": \"cat\",\n",
        "        \"specie\": \"persian\",\n",
        "        \"xmin\": 10,\n",
        "        \"ymin\": 10,\n",
        "        \"xmax\": 10,\n",
        "        \"ymax\": 10\n",
        "    }\n",
        "  - And in case there is no object it should have 0 for bbox values, \"NA\" for \"cat_or_dog\" and \"specie\", and False for \"has_object\".\n",
        "  - Values of the returned dictionary should be like explained above and keys should be image names including the extension \".jpg\" or \".jpeg\"\n",
        "  - Should save output image with bounding box drawn on it, with same name input image but place in the output folder \n",
        "- Try to train the best model\n",
        "\n",
        "\n",
        "## Dataset Details\n",
        "The dataset has in total 1041 images. Each image has a single object which is either a cat or a dog.\n",
        "- There are multiple species for both cat and dog.\n",
        "- The number of images falling in each specie is as follows:\n",
        "  - basset_hound: 93\n",
        "  - Birman: 93\n",
        "  - pomeranian: 93\n",
        "  - american_pit_bull_terrier: 93\n",
        "  - american_bulldog: 93\n",
        "  - Abyssinian: 92\n",
        "  - beagle: 93\n",
        "  - Persian: 93\n",
        "  - chihuahua: 93\n",
        "  - empty: 142\n",
        "- The dataset has two folders:\n",
        "  - images\n",
        "    - Inside images folder we have 986 images in .jpg folder\n",
        "  - labels\n",
        "    - Inside labels folder we have 899 .xml files each file with details of image labels\n",
        "    - For any image that does not have a cat or dog, there is no corresponding xml file\n",
        "\n",
        "## Deliverable\n",
        "- Updated Colab Based Jupyter Notebook:\n",
        "  - With all the required functionality Implemented\n",
        "  - Which one can train the model without any errors\n",
        "  - One should achieve same metrics (Almost same metrics) if I run training using this collab notebook\n",
        "    - Set default values for everything accordingly in the notebook\n",
        "  - During evaluation we will just run the notebook and use the best weights the notebook saves automatically\n",
        "- Best weights you have trained\n",
        "  - We will Evaluate your weights against hold-out test we have and compare results\n",
        "  - We will use visualize function to generate outputs for each image\n",
        "  - Upload weights in an easily downloadable location like, Dropbox, Google Drive, Github, etc\n",
        "- A video code-walk through explaining your design decisions including but not limited to:\n",
        "  - Model Design which layers and activation functions you used and why\n",
        "  - Loss function, which loss functions you used and why\n",
        "  - Metrics, which metrics and why\n",
        "  - Any optimizations you have made to the codebase\n",
        "  - How you implemented resume functionality, what were the things you thought would be needed to resume training from exact same point\n",
        "\n",
        "\n",
        "## Evaluation Criteria\n",
        " - Design Decisions\n",
        " - Completeness: Did you include all features?\n",
        " - Correctness: Does the solution (all deliverables) work in sensible, thought-out ways?\n",
        " - Maintainability: Is the code written in a clean, maintainable way?\n",
        " - Testing: Is the solution adequately tested?\n",
        " - Documentation: Is the codebase well-documented and has proper steps to run any of the deliverables?\n",
        "\n",
        "## Extra Points\n",
        "- Add metrics for the Bounding Box Output\n",
        "- Any Updates in the notebook (Bugs/Implementation Mistakes etc)\n",
        "\n",
        "## How to submit\n",
        "- Please upload the Notebook for this project to GitHub, and post a link to your repository below [repo link box, on the left of submit button].\n",
        "  - Create a new GitHub repository from scratch\n",
        "  - Add the final Colab/Jupyter notebook to the repository\n",
        "- Please upload video and your final best weights on Google Drive or any other platform, and paste the link to the folder with both video and model in the text box just above the submit button.\n",
        "- Please paste the commit Id of the latest commit of your Github Repo, which should not be later than 5 hours of time when the repo was created.\n",
        "  - Please note the submission without the commit id will not be considered."
      ]
    },
    {
      "cell_type": "markdown",
      "metadata": {
        "id": "KE_rGh4kod4n"
      },
      "source": [
        "# Install Required Modules"
      ]
    },
    {
      "cell_type": "code",
      "execution_count": null,
      "metadata": {
        "id": "magQ0ErkoOIR",
        "colab": {
          "base_uri": "https://localhost:8080/"
        },
        "outputId": "a5001ac9-7fcb-4a5c-9d3e-916b32865a70"
      },
      "outputs": [
        {
          "output_type": "stream",
          "name": "stdout",
          "text": [
            "Looking in indexes: https://pypi.org/simple, https://us-python.pkg.dev/colab-wheels/public/simple/\n",
            "Requirement already satisfied: bs4 in /usr/local/lib/python3.10/dist-packages (0.0.1)\n",
            "Requirement already satisfied: lxml in /usr/local/lib/python3.10/dist-packages (4.9.2)\n",
            "Requirement already satisfied: kaggle in /usr/local/lib/python3.10/dist-packages (1.5.13)\n",
            "Requirement already satisfied: torchmetrics in /usr/local/lib/python3.10/dist-packages (0.11.4)\n",
            "Requirement already satisfied: tqdm in /usr/local/lib/python3.10/dist-packages (4.65.0)\n",
            "Requirement already satisfied: beautifulsoup4 in /usr/local/lib/python3.10/dist-packages (from bs4) (4.11.2)\n",
            "Requirement already satisfied: six>=1.10 in /usr/local/lib/python3.10/dist-packages (from kaggle) (1.16.0)\n",
            "Requirement already satisfied: certifi in /usr/local/lib/python3.10/dist-packages (from kaggle) (2022.12.7)\n",
            "Requirement already satisfied: python-dateutil in /usr/local/lib/python3.10/dist-packages (from kaggle) (2.8.2)\n",
            "Requirement already satisfied: requests in /usr/local/lib/python3.10/dist-packages (from kaggle) (2.27.1)\n",
            "Requirement already satisfied: python-slugify in /usr/local/lib/python3.10/dist-packages (from kaggle) (8.0.1)\n",
            "Requirement already satisfied: urllib3 in /usr/local/lib/python3.10/dist-packages (from kaggle) (1.26.15)\n",
            "Requirement already satisfied: numpy>=1.17.2 in /usr/local/lib/python3.10/dist-packages (from torchmetrics) (1.22.4)\n",
            "Requirement already satisfied: torch>=1.8.1 in /usr/local/lib/python3.10/dist-packages (from torchmetrics) (2.0.0+cu118)\n",
            "Requirement already satisfied: packaging in /usr/local/lib/python3.10/dist-packages (from torchmetrics) (23.1)\n",
            "Requirement already satisfied: filelock in /usr/local/lib/python3.10/dist-packages (from torch>=1.8.1->torchmetrics) (3.12.0)\n",
            "Requirement already satisfied: typing-extensions in /usr/local/lib/python3.10/dist-packages (from torch>=1.8.1->torchmetrics) (4.5.0)\n",
            "Requirement already satisfied: sympy in /usr/local/lib/python3.10/dist-packages (from torch>=1.8.1->torchmetrics) (1.11.1)\n",
            "Requirement already satisfied: networkx in /usr/local/lib/python3.10/dist-packages (from torch>=1.8.1->torchmetrics) (3.1)\n",
            "Requirement already satisfied: jinja2 in /usr/local/lib/python3.10/dist-packages (from torch>=1.8.1->torchmetrics) (3.1.2)\n",
            "Requirement already satisfied: triton==2.0.0 in /usr/local/lib/python3.10/dist-packages (from torch>=1.8.1->torchmetrics) (2.0.0)\n",
            "Requirement already satisfied: cmake in /usr/local/lib/python3.10/dist-packages (from triton==2.0.0->torch>=1.8.1->torchmetrics) (3.25.2)\n",
            "Requirement already satisfied: lit in /usr/local/lib/python3.10/dist-packages (from triton==2.0.0->torch>=1.8.1->torchmetrics) (16.0.3)\n",
            "Requirement already satisfied: soupsieve>1.2 in /usr/local/lib/python3.10/dist-packages (from beautifulsoup4->bs4) (2.4.1)\n",
            "Requirement already satisfied: text-unidecode>=1.3 in /usr/local/lib/python3.10/dist-packages (from python-slugify->kaggle) (1.3)\n",
            "Requirement already satisfied: charset-normalizer~=2.0.0 in /usr/local/lib/python3.10/dist-packages (from requests->kaggle) (2.0.12)\n",
            "Requirement already satisfied: idna<4,>=2.5 in /usr/local/lib/python3.10/dist-packages (from requests->kaggle) (3.4)\n",
            "Requirement already satisfied: MarkupSafe>=2.0 in /usr/local/lib/python3.10/dist-packages (from jinja2->torch>=1.8.1->torchmetrics) (2.1.2)\n",
            "Requirement already satisfied: mpmath>=0.19 in /usr/local/lib/python3.10/dist-packages (from sympy->torch>=1.8.1->torchmetrics) (1.3.0)\n"
          ]
        }
      ],
      "source": [
        "! pip install bs4 lxml kaggle torchmetrics tqdm"
      ]
    },
    {
      "cell_type": "markdown",
      "metadata": {
        "id": "Bw3F4t1eaLl6"
      },
      "source": [
        "# Download Dataset from Kaggle"
      ]
    },
    {
      "cell_type": "code",
      "execution_count": null,
      "metadata": {
        "id": "59RSpyzRaOVj"
      },
      "outputs": [],
      "source": [
        "import os\n",
        "os.environ['KAGGLE_USERNAME'] = 'bilalyousaf0014'\n",
        "os.environ['KAGGLE_KEY'] = '11031bc21c5e3ec23585dbe17dc4267d'"
      ]
    },
    {
      "cell_type": "code",
      "execution_count": null,
      "metadata": {
        "id": "plZEhi_oaPPn",
        "colab": {
          "base_uri": "https://localhost:8080/"
        },
        "outputId": "e90d24b4-f9e2-46b7-b175-6a113d5f13af"
      },
      "outputs": [
        {
          "output_type": "stream",
          "name": "stdout",
          "text": [
            "ml-engineer-assessment-dataset.zip: Skipping, found more recently modified local copy (use --force to force download)\n"
          ]
        }
      ],
      "source": [
        "!kaggle datasets download -d bilalyousaf0014/ml-engineer-assessment-dataset"
      ]
    },
    {
      "cell_type": "code",
      "execution_count": null,
      "metadata": {
        "id": "d6jkCK0uaxRT",
        "colab": {
          "base_uri": "https://localhost:8080/"
        },
        "outputId": "79ad4b8b-99f6-45bf-cc20-8712ad8478b9"
      },
      "outputs": [
        {
          "output_type": "stream",
          "name": "stdout",
          "text": [
            "Archive:  /content/ml-engineer-assessment-dataset.zip\n",
            "replace assessment_dataset/images/00001.jpeg? [y]es, [n]o, [A]ll, [N]one, [r]ename: "
          ]
        }
      ],
      "source": [
        "! unzip /content/ml-engineer-assessment-dataset.zip"
      ]
    },
    {
      "cell_type": "markdown",
      "metadata": {
        "id": "PMEbUqsPl9s4"
      },
      "source": [
        "# MODEL IMPLEMENTATION:"
      ]
    },
    {
      "cell_type": "code",
      "execution_count": 74,
      "metadata": {
        "id": "uXb6eKgFmNzx"
      },
      "outputs": [],
      "source": [
        "import os\n",
        "import torch\n",
        "import torch.nn as nn\n",
        "import numpy as np\n",
        "\n",
        "from torchvision.models import resnet18, ResNet18_Weights"
      ]
    },
    {
      "cell_type": "code",
      "execution_count": 75,
      "metadata": {
        "id": "BtSgG4OklRte"
      },
      "outputs": [],
      "source": [
        "class Model(nn.Module):\n",
        "\n",
        "  def __init__(self, load_state=None):\n",
        "    super(Model, self).__init__()\n",
        "    pretrained_model = resnet18(weights=ResNet18_Weights.DEFAULT)\n",
        "    self.backbone = nn.Sequential(*list(pretrained_model.children())[:-2])\n",
        "    \n",
        "    ### Initialize the required Layers\n",
        "    self.have_object = nn.Sequential(nn.Flatten(), nn.Linear(512, 256), nn.LeakyReLU(), nn.Linear(256, 128), nn.LeakyReLU(), nn.Linear(128, 1)) \n",
        "    self.cat_or_dog = nn.Sequential(nn.Flatten(), nn.Linear(512, 256), nn.LeakyReLU(), nn.Linear(256, 128), nn.LeakyReLU(), nn.Linear(128, 3))\n",
        "    self.specie = nn.Sequential(nn.Flatten(), nn.Linear(512, 256), nn.LeakyReLU(), nn.Linear(256, 128), nn.LeakyReLU(), nn.Linear(128, 10))\n",
        "    self.bbox = nn.Sequential(nn.Flatten(), nn.Linear(512, 256), nn.LeakyReLU(), nn.Linear(256, 128), nn.LeakyReLU(), nn.Linear(128, 4))\n",
        "    self.avg_pool = nn.AdaptiveAvgPool2d(1)\n",
        "    \n",
        "    ### Initialize the required Layers\n",
        "    if load_state is not None:\n",
        "      self.load_state_dict(load_state)\n",
        "\n",
        "  def forward(self, input):\n",
        "      out_backbone = self.backbone(input)\n",
        "      feats = self.avg_pool(out_backbone)\n",
        "      ### Write Forward Calls for the Model\n",
        "      object = self.have_object(feats)\n",
        "      bbox =  self.bbox(feats)\n",
        "      cat_or_dog = self.cat_or_dog(feats)\n",
        "      specie = self.specie(feats)\n",
        "\n",
        "      return {\n",
        "          \"bbox\": bbox.sigmoid(),\n",
        "          \"object\": object.sigmoid(),\n",
        "          \"cat_or_dog\": cat_or_dog,\n",
        "          \"specie\": specie\n",
        "      }"
      ]
    },
    {
      "cell_type": "markdown",
      "metadata": {
        "id": "avxCQ2W-oGxV"
      },
      "source": [
        "# CUSTOM DATALOADER IMPLEMENTATION"
      ]
    },
    {
      "cell_type": "code",
      "execution_count": 76,
      "metadata": {
        "id": "ZNds6zOg8w5A"
      },
      "outputs": [],
      "source": [
        "train_list = np.load('/content/assessment_dataset/train_list.npy', allow_pickle=True).tolist()\n",
        "val_list = np.load('/content/assessment_dataset/val_list.npy', allow_pickle=True).tolist()"
      ]
    },
    {
      "cell_type": "code",
      "execution_count": 77,
      "metadata": {
        "id": "E30zu6ICmKOL"
      },
      "outputs": [],
      "source": [
        "from bs4 import BeautifulSoup\n",
        "\n",
        "def read_xml_file(path):\n",
        "    try:\n",
        "      with open(path, 'r') as f:\n",
        "          data = f.read()\n",
        "      bs_data = BeautifulSoup(data, 'xml')\n",
        "      return {\n",
        "          \"object\": torch.ones(1),\n",
        "          \"cat_or_dog\": bs_data.find(\"name\").text,\n",
        "          \"bbox\": [\n",
        "              float(bs_data.find(\"xmin\").text),\n",
        "              float(bs_data.find(\"ymin\").text),\n",
        "              float(bs_data.find(\"xmax\").text),\n",
        "              float(bs_data.find(\"ymax\").text)\n",
        "              ],\n",
        "          \"specie\": \"_\".join(path.split(os.sep)[-1].split(\"_\")[:-1])\n",
        "      }\n",
        "    except:\n",
        "      return {\n",
        "          \"object\": torch.zeros(1),\n",
        "          \"cat_or_dog\": \"NA\",\n",
        "          \"bbox\": [0.0, 0.0, 0.0, 0.0],\n",
        "          \"specie\": \"NA\"\n",
        "      }"
      ]
    },
    {
      "cell_type": "code",
      "execution_count": 99,
      "metadata": {
        "id": "z16n7BbnoviB"
      },
      "outputs": [],
      "source": [
        "from PIL import Image\n",
        "\n",
        "import torchvision.transforms as transforms\n",
        "import albumentations as A\n",
        "import cv2\n",
        "\n",
        "def image_preprocess(img_path, resize_shape=(512, 512)):\n",
        "  img = Image.open(img_path)\n",
        "  orig_w, orig_h = img.size\n",
        "  if resize_shape is not None:\n",
        "    img = img.resize(resize_shape)\n",
        "  return img, orig_w, orig_h\n",
        "\n",
        "class CustomDataset(): \n",
        "  SPECIE_MAP = {\n",
        "    \"NA\": 0,\n",
        "    \"Abyssinian\": 1,\n",
        "    \"Birman\": 2,\n",
        "    \"Persian\": 3,\n",
        "    \"basset_hound\": 4,\n",
        "    \"pomeranian\": 5,\n",
        "    \"american_pit_bull_terrier\": 6,\n",
        "    \"american_bulldog\": 7,\n",
        "    \"beagle\": 8,\n",
        "    \"chihuahua\": 9,\n",
        "  }\n",
        "  CLASS_MAP = {\n",
        "      \"NA\": 0,\n",
        "      \"cat\": 1,\n",
        "      \"dog\": 2\n",
        "  }\n",
        "\n",
        "  def __init__(self, dataset_path, images_list, train=False):\n",
        "\n",
        "    self.preprocess = image_preprocess\n",
        "    self.transforms = A.Compose([\n",
        "      A.Resize(512, 512)] +  \n",
        "      ([A.HorizontalFlip(p=0.25),\n",
        "      A.ShiftScaleRotate(p=0.25),\n",
        "      A.RandomBrightnessContrast(p=0.25),\n",
        "    ] if train else []),\n",
        "    bbox_params=A.BboxParams(format='pascal_voc', label_fields=['class_labels']),\n",
        "    )\n",
        "    self.image_folder_path = os.path.join(dataset_path, \"images\")\n",
        "    label_folder_path = os.path.join(dataset_path, \"labels\")\n",
        "\n",
        "    self.image_names = []\n",
        "    self.processed_labels = {}\n",
        "\n",
        "    for path in os.listdir(self.image_folder_path):\n",
        "        name = path.split(os.sep)[-1].split(\".\")[0]\n",
        "        if name in images_list:\n",
        "          self.image_names.append(path)\n",
        "          xml_path = os.path.join(label_folder_path, name+\".xml\")\n",
        "          xml_data = read_xml_file(xml_path)\n",
        "          self.processed_labels[path] = xml_data\n",
        "\n",
        "  def __len__(self):\n",
        "    return len(self.image_names)\n",
        "\n",
        "  def __getitem__(self, index):\n",
        "    img_name = self.image_names[index]\n",
        "    label = self.processed_labels[img_name].copy()\n",
        "    \n",
        "    image = cv2.imread(os.path.join(self.image_folder_path, img_name))\n",
        "    \n",
        "    if label['object'][0] == 0:\n",
        "      label['bbox'][2:] = image.shape[1::-1]\n",
        "\n",
        "    transformed = self.transforms(image=image, bboxes=torch.tensor([label['bbox']]), class_labels=[0])\n",
        "    image = transforms.ToTensor()(transformed['image'])\n",
        "\n",
        "    label['bbox'] = torch.tensor(transformed['bboxes'][0], dtype=torch.float32) / 512\n",
        "    \n",
        "    label['cat_or_dog'] = self.CLASS_MAP[label['cat_or_dog']]\n",
        "    label['specie'] = self.SPECIE_MAP[label['specie']]\n",
        "    label['image_name'] = self.image_names[index]\n",
        "    \n",
        "    return image, label\n",
        "  "
      ]
    },
    {
      "cell_type": "markdown",
      "metadata": {
        "id": "hkbn3C3cqahY"
      },
      "source": [
        "# TRAINING LOOP IMPLEMENTATION"
      ]
    },
    {
      "cell_type": "markdown",
      "metadata": {
        "id": "SxODf-DLqmPA"
      },
      "source": [
        "## Initializations"
      ]
    },
    {
      "cell_type": "code",
      "execution_count": 100,
      "metadata": {
        "id": "Drkrrx8pqjzM"
      },
      "outputs": [],
      "source": [
        "from torch.utils.data import DataLoader"
      ]
    },
    {
      "cell_type": "code",
      "execution_count": 101,
      "metadata": {
        "id": "1k8jvr7EqaPz"
      },
      "outputs": [],
      "source": [
        "# import our library\n",
        "import torchmetrics\n",
        "from torchmetrics.detection.mean_ap import MeanAveragePrecision\n",
        "import torch.nn.functional as F\n",
        "from PIL import ImageDraw\n",
        "from tqdm import tqdm\n",
        "\n",
        "def train(epochs, model_weights=None):\n",
        "\n",
        "  # Initialize Model and Optimizer\n",
        "  model = Model()\n",
        "  optimizer = torch.optim.SGD(model.parameters(), lr=0.005, momentum=0.9)\n",
        "  start_epoch = 0\n",
        "\n",
        "  if torch.cuda.is_available():\n",
        "    model = model.cuda()\n",
        "  \n",
        "  if model_weights:\n",
        "    checkpoint = torch.load(model_weights)\n",
        "    model.load_state_dict(checkpoint['state_dict'])\n",
        "    optimizer.load_state_dict(checkpoint['optimizer'])\n",
        "    start_epoch = checkpoint['epoch']\n",
        "    \n",
        "  if start_epoch + 1 >= epochs:\n",
        "    print(f\"Already trained for {start_epoch + 1} epochs\")\n",
        "    return\n",
        "\n",
        "  \n",
        "  \n",
        "  def compute_box_loss(predictions, targets):\n",
        "    return F.l1_loss(predictions, targets, reduction='none') + F.mse_loss(predictions, targets, reduction='none')\n",
        "  \n",
        "  # Initialize Loss Functions\n",
        "  have_object_loss = nn.BCELoss()\n",
        "  specie_loss = F.cross_entropy\n",
        "  cat_or_dog_loss = F.cross_entropy\n",
        "  bbox_loss = compute_box_loss#F.l1_loss # Not necessary you need to apply function to all coordinates together, You can have separete loss functions for all coordinates too\n",
        "  # Below or Above\n",
        "  # xmin_loss = nn.MSELoss()\n",
        "  # ymin_loss = nn.MSELoss()\n",
        "  # xmax_loss = nn.MSELoss()\n",
        "  # ymax_loss = nn.MSELoss()\n",
        "\n",
        "  training_dataset = CustomDataset(f\"/content/assessment_dataset\", images_list=train_list, train=True)\n",
        "  training_loader = DataLoader(training_dataset, batch_size=64, shuffle=True)\n",
        "\n",
        "  if torch.cuda.is_available():\n",
        "    model = model.cuda()\n",
        "\n",
        "  def train_one_epoch(epoch_index, tb_writer):\n",
        "      running_loss = 0.\n",
        "      last_loss = 0.\n",
        "      mloss = torch.zeros(4)\n",
        "      pbar = tqdm(training_loader)\n",
        "\n",
        "      model.train()\n",
        "      # Here, we use enumerate(training_loader) instead of\n",
        "      # iter(training_loader) so that we can track the batch\n",
        "      # index and do some intra-epoch reporting\n",
        "      for i, data in enumerate(pbar):\n",
        "          optimizer.zero_grad()\n",
        "          # Every data instance is an input + label pair\n",
        "          inputs, labels = data\n",
        "          if torch.cuda.is_available():\n",
        "            inputs = inputs.cuda()\n",
        "            labels = {k: v.cuda() for k, v in labels.items() if k!='image_name'}\n",
        "\n",
        "          # Make predictions for this batch\n",
        "          outputs = model(inputs)\n",
        "          # Compute the loss and its gradients\n",
        "          loss_have_object = have_object_loss(outputs[\"object\"], labels[\"object\"])\n",
        "          loss_specie = specie_loss(outputs[\"specie\"], labels[\"specie\"])\n",
        "          loss_cat_or_dog = cat_or_dog_loss(outputs[\"cat_or_dog\"], labels[\"cat_or_dog\"])\n",
        "          \n",
        "          #ipdb.set_trace(context=6)\n",
        "          loss_bbox  = ((bbox_loss(outputs[\"bbox\"], labels[\"bbox\"])).sum(1) * labels[\"object\"].reshape(-1)).mean()\n",
        "          loss_bbox *= 1.5 # box is weighed based on experimentations\n",
        "          # Above or Below\n",
        "          # loss_xmin = xmin_loss(outputs[\"bbox\"], None)\n",
        "          # loss_ymin = ymin_loss(outputs[\"bbox\"], None)\n",
        "          # loss_xmax = xmax_loss(outputs[\"bbox\"], None)\n",
        "          # loss_ymax = ymax_loss(outputs[\"bbox\"], None)\n",
        "\n",
        "          \n",
        "          loss =  loss_have_object + loss_specie + loss_cat_or_dog + loss_bbox # Consolidate all individual losses\n",
        "\n",
        "          loss.backward()\n",
        "          optimizer.step()\n",
        "\n",
        "          loss_items =   torch.tensor([loss_have_object.item(),  loss_specie.item(),  loss_cat_or_dog.item(),  loss_bbox.item()])         \n",
        "          # Gather data and report\n",
        "          running_loss += loss.item()\n",
        "          mloss = (mloss * i + loss_items) / (i + 1)\n",
        "          pbar.set_description(\n",
        "            (\"%10.4g\" * 5)\n",
        "              % (\n",
        "                *mloss,\n",
        "                 loss,\n",
        "                )\n",
        "          )\n",
        "\n",
        "      return running_loss\n",
        "\n",
        "  for i in range(start_epoch+1, epochs):\n",
        "\n",
        "    epoch_loss = train_one_epoch(i, None)\n",
        "    print(f' Epoch {i} Loss : {epoch_loss}')\n",
        "\n",
        "    state = {\n",
        "        'state_dict': model.state_dict(),\n",
        "        'optimizer': optimizer.state_dict(),\n",
        "        'epoch': i\n",
        "    }\n",
        "    torch.save(state, \"model.pth\")\n",
        "    metrics = test(model, val_list)\n",
        "    [print(k, \":\\n\", metric) for k, metric in metrics.items()]\n",
        "\n",
        "\n",
        "def test(model, val_list):\n",
        "\n",
        "  def post_process_object(x):\n",
        "    return x\n",
        "\n",
        "  def post_process_cat_or_dog(x):\n",
        "    return x.softmax(1)\n",
        "\n",
        "  def post_process_specie(x):\n",
        "    return x.softmax(1)\n",
        "\n",
        "  def post_process_bbox(x):\n",
        "    return x*512\n",
        "\n",
        "  val_dataset = CustomDataset(f\"/content/assessment_dataset\", images_list=val_list)\n",
        "  val_loader = DataLoader(val_dataset, batch_size=32, shuffle=False)\n",
        "\n",
        "  \n",
        "  metric_object = torchmetrics.F1Score('binary', num_classes=1)\n",
        "  metric_cat_or_dog = torchmetrics.ConfusionMatrix('multiclass', num_classes=3)\n",
        "  metric_specie = torchmetrics.ConfusionMatrix('multiclass', num_classes=10)\n",
        "  metric_bbox = MeanAveragePrecision()\n",
        "\n",
        "  model.eval()\n",
        "  with torch.no_grad():\n",
        "    for j, data in enumerate(tqdm(val_loader)):\n",
        "      inputs, labels = data\n",
        "\n",
        "      if torch.cuda.is_available():\n",
        "        inputs = inputs.cuda()\n",
        "        \n",
        "      # Make predictions for this batch\n",
        "      outputs = model(inputs)\n",
        "      # pulling everything to CPU to save GPU memory overflow\n",
        "      outputs = {k: v.cpu() for k, v in outputs.items()}\n",
        "\n",
        "      specie = post_process_specie(outputs[\"specie\"])\n",
        "      \n",
        "      metric_object.update(\n",
        "          post_process_object(outputs[\"object\"]), \n",
        "          labels[\"object\"]\n",
        "      )\n",
        "      metric_cat_or_dog.update(\n",
        "          post_process_cat_or_dog(outputs[\"cat_or_dog\"]), \n",
        "          labels[\"cat_or_dog\"]\n",
        "      )\n",
        "      metric_specie.update(\n",
        "          specie, \n",
        "          labels[\"specie\"]\n",
        "      )\n",
        "      \n",
        "      \n",
        "      pred_boxes = post_process_bbox(outputs[\"bbox\"])\n",
        "      gt_boxes = post_process_bbox(labels[\"bbox\"])\n",
        "      pred_scores, pred_labels = specie.max(1)\n",
        "      metric_bbox.update(\n",
        "          preds=[\n",
        "              dict(\n",
        "                  boxes=pred_boxes,\n",
        "                  scores=pred_scores,\n",
        "                  labels=pred_labels,\n",
        "              )\n",
        "          ],\n",
        "          target=[\n",
        "            dict(\n",
        "              boxes=gt_boxes,\n",
        "              labels=labels[\"specie\"],\n",
        "            )\n",
        "          ]\n",
        "      )\n",
        "\n",
        "\n",
        "    score_object = metric_object.compute()\n",
        "    score_cat_or_dog = metric_cat_or_dog.compute()\n",
        "    score_specie = metric_specie.compute()\n",
        "    score_bbox = metric_bbox.compute()\n",
        "\n",
        "    return {\n",
        "      \"F1_object\": score_object, \n",
        "      \"CFM_cat_or_dog\": score_cat_or_dog, \n",
        "      \"CFM_specie\": score_specie, \n",
        "      \"MAP_bbox\": score_bbox\n",
        "    }\n",
        "    "
      ]
    },
    {
      "cell_type": "code",
      "execution_count": 107,
      "metadata": {
        "id": "8TgRVGPDaUAd"
      },
      "outputs": [],
      "source": [
        "from PIL import Image\n",
        "import torch\n",
        "import os\n",
        "from pathlib import Path\n",
        "import cv2\n",
        "\n",
        "def visualize(model_weights, image_folder_path, output_folder=\"output\"):\n",
        "\n",
        "  object_score_threshold = 0.5\n",
        "\n",
        "  os.makedirs(output_folder, exist_ok=True)\n",
        "  model = Model(torch.load(model_weights)['state_dict'])\n",
        "\n",
        "  if torch.cuda.is_available():\n",
        "    model=model.cuda()\n",
        "\n",
        "  model.eval()\n",
        "  \n",
        "  id2class = { v: k for k, v in CustomDataset.CLASS_MAP.items()}\n",
        "  id2specie = { v: k for k, v in CustomDataset.SPECIE_MAP.items()}\n",
        "\n",
        "\n",
        "  image_list = [Path(f).stem for f in os.listdir(image_folder_path)]\n",
        "  test_dataset = CustomDataset(Path(image_folder_path).parent, images_list=image_list)\n",
        "  test_loader = DataLoader(test_dataset, batch_size=4, shuffle=False)\n",
        "  \n",
        "  results= {}\n",
        "  \n",
        "  with torch.no_grad():\n",
        "    for j, data in enumerate(tqdm(test_loader)):\n",
        "      inputs, labels = data\n",
        "\n",
        "      if torch.cuda.is_available():\n",
        "        inputs = inputs.cuda()\n",
        "        \n",
        "      # Make predictions for this batch some\n",
        "      outputs = model(inputs)\n",
        "\n",
        "      outputs = {k: v.cpu() for k, v in outputs.items()}\n",
        "\n",
        "      object_scores = outputs[\"object\"].reshape(-1).numpy()\n",
        "      \n",
        "      outputs[\"cat_or_dog\"] = outputs[\"cat_or_dog\"].softmax(1)\n",
        "      outputs[\"specie\"] = outputs[\"specie\"].softmax(1)\n",
        "      cat_or_dog_ids = outputs[\"cat_or_dog\"].argmax(1).numpy()\n",
        "      specie_ids = outputs[\"specie\"].argmax(1).numpy()\n",
        "\n",
        "      for i in range(inputs.shape[0]):\n",
        "        \n",
        "        \n",
        "        image, orig_w, orig_h = image_preprocess(os.path.join(image_folder_path, labels['image_name'][i]), resize_shape=None)\n",
        "        image = np.array(image)\n",
        "        \n",
        "        image_result = {\n",
        "            \"has_object\": object_scores[i] > object_score_threshold,\n",
        "            \"cat_or_dog\": id2class[cat_or_dog_ids[i]],\n",
        "            \"specie\": id2specie[specie_ids[i]],\n",
        "        }\n",
        "\n",
        "        if image_result['has_object']:\n",
        "          box = outputs[\"bbox\"][i].numpy() * np.array([orig_w, orig_h, orig_w, orig_h])\n",
        "        else:\n",
        "          box = np.zeros(4)\n",
        "\n",
        "        image_result.update(\n",
        "            {\n",
        "              \"xmin\": box[0],\n",
        "              \"ymin\": box[1],\n",
        "              \"xmax\": box[2],\n",
        "              \"ymax\": box[3]\n",
        "            }\n",
        "        )\n",
        "          \n",
        "        text = \"object={:.2f}, {}:{:.2f} ({}:{:.2f})\".format(\n",
        "          image_result['has_object'],\n",
        "          image_result['cat_or_dog'],\n",
        "          outputs[\"cat_or_dog\"][i][cat_or_dog_ids[i]],\n",
        "          image_result['specie'],\n",
        "          outputs[\"specie\"][i][specie_ids[i]],\n",
        "        )\n",
        "        \n",
        "        image = cv2.putText(image, text, (10,20), cv2.FONT_HERSHEY_SIMPLEX, \n",
        "                  0.5, (50,255,50), 1)\n",
        "        pt1 = box[:2].astype(int)\n",
        "        pt2 = box[2:].astype(int)\n",
        "        image = cv2.rectangle(image, pt1, pt2, (0,0,255), 1)\n",
        "          \n",
        "\n",
        "        Image.fromarray(image).save(os.path.join(output_folder, labels['image_name'][i]))\n",
        "        results[labels['image_name'][i]] = image_result   \n",
        "\n",
        "  return results"
      ]
    },
    {
      "cell_type": "code",
      "execution_count": 103,
      "metadata": {
        "id": "u7npVwns6LU6",
        "colab": {
          "base_uri": "https://localhost:8080/"
        },
        "outputId": "4b1572ee-8bcd-41d5-e97f-bb728aee01a3"
      },
      "outputs": [
        {
          "output_type": "stream",
          "name": "stderr",
          "text": [
            "    0.5809     2.285    0.9995      1.17     4.494: 100%|██████████| 13/13 [00:20<00:00,  1.56s/it]\n"
          ]
        },
        {
          "output_type": "stream",
          "name": "stdout",
          "text": [
            " Epoch 1 Loss : 65.46617078781128\n"
          ]
        },
        {
          "output_type": "stream",
          "name": "stderr",
          "text": [
            "100%|██████████| 7/7 [00:02<00:00,  2.45it/s]\n"
          ]
        },
        {
          "output_type": "stream",
          "name": "stdout",
          "text": [
            "F1_object :\n",
            " tensor(0.9222)\n",
            "CFM_cat_or_dog :\n",
            " tensor([[  0,   0,  28],\n",
            "        [  0,   0,  51],\n",
            "        [  0,   0, 115]])\n",
            "CFM_specie :\n",
            " tensor([[28,  0,  0,  0,  0,  0,  0,  0,  0,  0],\n",
            "        [17,  0,  0,  0,  0,  0,  0,  0,  0,  0],\n",
            "        [19,  0,  1,  0,  0,  0,  0,  0,  0,  0],\n",
            "        [13,  0,  1,  0,  0,  0,  0,  0,  0,  0],\n",
            "        [18,  0,  0,  0,  0,  0,  0,  0,  0,  0],\n",
            "        [23,  0,  0,  0,  0,  0,  0,  0,  0,  0],\n",
            "        [17,  0,  0,  0,  0,  0,  0,  0,  0,  0],\n",
            "        [20,  0,  0,  0,  0,  0,  0,  0,  0,  0],\n",
            "        [20,  0,  0,  0,  0,  0,  0,  0,  0,  0],\n",
            "        [17,  0,  0,  0,  0,  0,  0,  0,  0,  0]])\n",
            "MAP_bbox :\n",
            " {'map': tensor(0.0103), 'map_50': tensor(0.0468), 'map_75': tensor(0.0109), 'map_small': tensor(-1.), 'map_medium': tensor(0.), 'map_large': tensor(0.0109), 'mar_1': tensor(0.0067), 'mar_10': tensor(0.0146), 'mar_100': tensor(0.0181), 'mar_small': tensor(-1.), 'mar_medium': tensor(0.), 'mar_large': tensor(0.0192), 'map_per_class': tensor(-1.), 'mar_100_per_class': tensor(-1.)}\n"
          ]
        },
        {
          "output_type": "stream",
          "name": "stderr",
          "text": [
            "    0.3748     2.205    0.8515    0.7921     4.082: 100%|██████████| 13/13 [00:19<00:00,  1.48s/it]\n"
          ]
        },
        {
          "output_type": "stream",
          "name": "stdout",
          "text": [
            " Epoch 2 Loss : 54.905818939208984\n"
          ]
        },
        {
          "output_type": "stream",
          "name": "stderr",
          "text": [
            "100%|██████████| 7/7 [00:02<00:00,  2.55it/s]\n"
          ]
        },
        {
          "output_type": "stream",
          "name": "stdout",
          "text": [
            "F1_object :\n",
            " tensor(0.9222)\n",
            "CFM_cat_or_dog :\n",
            " tensor([[  0,   0,  28],\n",
            "        [  0,  33,  18],\n",
            "        [  0,   3, 112]])\n",
            "CFM_specie :\n",
            " tensor([[28,  0,  0,  0,  0,  0,  0,  0,  0,  0],\n",
            "        [13,  0,  3,  0,  1,  0,  0,  0,  0,  0],\n",
            "        [ 2,  0, 15,  3,  0,  0,  0,  0,  0,  0],\n",
            "        [ 0,  0,  9,  5,  0,  0,  0,  0,  0,  0],\n",
            "        [15,  0,  0,  0,  3,  0,  0,  0,  0,  0],\n",
            "        [15,  0,  0,  6,  0,  1,  0,  0,  0,  1],\n",
            "        [14,  0,  0,  0,  1,  0,  2,  0,  0,  0],\n",
            "        [ 8,  0,  0,  0,  3,  0,  0,  9,  0,  0],\n",
            "        [15,  0,  0,  1,  4,  0,  0,  0,  0,  0],\n",
            "        [14,  0,  0,  0,  0,  0,  1,  0,  0,  2]])\n",
            "MAP_bbox :\n",
            " {'map': tensor(0.0445), 'map_50': tensor(0.1171), 'map_75': tensor(0.0173), 'map_small': tensor(-1.), 'map_medium': tensor(0.), 'map_large': tensor(0.0474), 'mar_1': tensor(0.0420), 'mar_10': tensor(0.0575), 'mar_100': tensor(0.0596), 'mar_small': tensor(-1.), 'mar_medium': tensor(0.), 'mar_large': tensor(0.0634), 'map_per_class': tensor(-1.), 'mar_100_per_class': tensor(-1.)}\n"
          ]
        },
        {
          "output_type": "stream",
          "name": "stderr",
          "text": [
            "    0.2763     2.057    0.6102    0.6931     3.617: 100%|██████████| 13/13 [00:19<00:00,  1.48s/it]\n"
          ]
        },
        {
          "output_type": "stream",
          "name": "stdout",
          "text": [
            " Epoch 3 Loss : 47.27197861671448\n"
          ]
        },
        {
          "output_type": "stream",
          "name": "stderr",
          "text": [
            "100%|██████████| 7/7 [00:02<00:00,  2.85it/s]\n"
          ]
        },
        {
          "output_type": "stream",
          "name": "stdout",
          "text": [
            "F1_object :\n",
            " tensor(0.9222)\n",
            "CFM_cat_or_dog :\n",
            " tensor([[  0,   4,  24],\n",
            "        [  0,  48,   3],\n",
            "        [  0,   6, 109]])\n",
            "CFM_specie :\n",
            " tensor([[27,  0,  0,  0,  1,  0,  0,  0,  0,  0],\n",
            "        [ 1,  0,  3,  7,  4,  0,  0,  0,  0,  2],\n",
            "        [ 1,  0, 17,  2,  0,  0,  0,  0,  0,  0],\n",
            "        [ 0,  0, 14,  0,  0,  0,  0,  0,  0,  0],\n",
            "        [ 0,  0,  0,  0, 18,  0,  0,  0,  0,  0],\n",
            "        [ 0,  0,  1,  5,  0,  6,  1,  0,  0, 10],\n",
            "        [ 0,  0,  0,  0,  4,  0, 13,  0,  0,  0],\n",
            "        [ 0,  0,  0,  0,  8,  0,  1, 11,  0,  0],\n",
            "        [ 0,  0,  0,  0, 20,  0,  0,  0,  0,  0],\n",
            "        [ 0,  0,  0,  0,  1,  0, 12,  0,  0,  4]])\n",
            "MAP_bbox :\n",
            " {'map': tensor(0.0620), 'map_50': tensor(0.2127), 'map_75': tensor(0.0226), 'map_small': tensor(-1.), 'map_medium': tensor(0.), 'map_large': tensor(0.0652), 'mar_1': tensor(0.0520), 'mar_10': tensor(0.0888), 'mar_100': tensor(0.0922), 'mar_small': tensor(-1.), 'mar_medium': tensor(0.), 'mar_large': tensor(0.0972), 'map_per_class': tensor(-1.), 'mar_100_per_class': tensor(-1.)}\n"
          ]
        },
        {
          "output_type": "stream",
          "name": "stderr",
          "text": [
            "    0.2004     1.732    0.3637    0.6529     2.653: 100%|██████████| 13/13 [00:19<00:00,  1.50s/it]\n"
          ]
        },
        {
          "output_type": "stream",
          "name": "stdout",
          "text": [
            " Epoch 4 Loss : 38.34070181846619\n"
          ]
        },
        {
          "output_type": "stream",
          "name": "stderr",
          "text": [
            "100%|██████████| 7/7 [00:02<00:00,  2.86it/s]\n"
          ]
        },
        {
          "output_type": "stream",
          "name": "stdout",
          "text": [
            "F1_object :\n",
            " tensor(0.9222)\n",
            "CFM_cat_or_dog :\n",
            " tensor([[  4,   4,  20],\n",
            "        [  0,  48,   3],\n",
            "        [  0,   4, 111]])\n",
            "CFM_specie :\n",
            " tensor([[26,  0,  0,  0,  2,  0,  0,  0,  0,  0],\n",
            "        [ 0,  3,  0, 10,  2,  0,  0,  0,  0,  2],\n",
            "        [ 1,  0,  3, 16,  0,  0,  0,  0,  0,  0],\n",
            "        [ 0,  0,  0, 14,  0,  0,  0,  0,  0,  0],\n",
            "        [ 0,  0,  0,  0, 18,  0,  0,  0,  0,  0],\n",
            "        [ 0,  0,  0,  5,  0, 13,  0,  0,  0,  5],\n",
            "        [ 0,  0,  0,  0,  4,  0, 13,  0,  0,  0],\n",
            "        [ 0,  0,  0,  0,  8,  0,  1, 11,  0,  0],\n",
            "        [ 0,  0,  0,  1, 19,  0,  0,  0,  0,  0],\n",
            "        [ 0,  0,  0,  0,  1,  0,  8,  1,  0,  7]])\n",
            "MAP_bbox :\n",
            " {'map': tensor(0.0888), 'map_50': tensor(0.2711), 'map_75': tensor(0.0341), 'map_small': tensor(-1.), 'map_medium': tensor(0.), 'map_large': tensor(0.0921), 'mar_1': tensor(0.0633), 'mar_10': tensor(0.1117), 'mar_100': tensor(0.1156), 'mar_small': tensor(-1.), 'mar_medium': tensor(0.), 'mar_large': tensor(0.1198), 'map_per_class': tensor(-1.), 'mar_100_per_class': tensor(-1.)}\n"
          ]
        },
        {
          "output_type": "stream",
          "name": "stderr",
          "text": [
            "     0.159     1.287    0.2341    0.6239     2.289: 100%|██████████| 13/13 [00:19<00:00,  1.48s/it]\n"
          ]
        },
        {
          "output_type": "stream",
          "name": "stdout",
          "text": [
            " Epoch 5 Loss : 29.947426557540894\n"
          ]
        },
        {
          "output_type": "stream",
          "name": "stderr",
          "text": [
            "100%|██████████| 7/7 [00:02<00:00,  2.92it/s]\n"
          ]
        },
        {
          "output_type": "stream",
          "name": "stdout",
          "text": [
            "F1_object :\n",
            " tensor(0.9326)\n",
            "CFM_cat_or_dog :\n",
            " tensor([[ 17,   1,  10],\n",
            "        [  0,  47,   4],\n",
            "        [  0,   0, 115]])\n",
            "CFM_specie :\n",
            " tensor([[24,  1,  0,  0,  0,  0,  0,  2,  0,  1],\n",
            "        [ 0, 13,  1,  0,  0,  3,  0,  0,  0,  0],\n",
            "        [ 1,  0, 18,  1,  0,  0,  0,  0,  0,  0],\n",
            "        [ 0,  0,  4,  9,  0,  1,  0,  0,  0,  0],\n",
            "        [ 0,  0,  0,  0, 14,  0,  0,  1,  3,  0],\n",
            "        [ 0,  0,  0,  2,  0, 21,  0,  0,  0,  0],\n",
            "        [ 0,  0,  0,  0,  2,  0,  2,  2,  0, 11],\n",
            "        [ 0,  0,  0,  0,  0,  0,  1, 19,  0,  0],\n",
            "        [ 0,  0,  0,  0, 10,  0,  2,  2,  6,  0],\n",
            "        [ 0,  0,  0,  0,  0,  2,  0,  1,  0, 14]])\n",
            "MAP_bbox :\n",
            " {'map': tensor(0.0889), 'map_50': tensor(0.2861), 'map_75': tensor(0.0281), 'map_small': tensor(-1.), 'map_medium': tensor(0.), 'map_large': tensor(0.0933), 'mar_1': tensor(0.0601), 'mar_10': tensor(0.1211), 'mar_100': tensor(0.1211), 'mar_small': tensor(-1.), 'mar_medium': tensor(0.), 'mar_large': tensor(0.1268), 'map_per_class': tensor(-1.), 'mar_100_per_class': tensor(-1.)}\n"
          ]
        },
        {
          "output_type": "stream",
          "name": "stderr",
          "text": [
            "    0.1188    0.9203    0.1259    0.6044     1.843: 100%|██████████| 13/13 [00:19<00:00,  1.51s/it]\n"
          ]
        },
        {
          "output_type": "stream",
          "name": "stdout",
          "text": [
            " Epoch 6 Loss : 23.002904415130615\n"
          ]
        },
        {
          "output_type": "stream",
          "name": "stderr",
          "text": [
            "100%|██████████| 7/7 [00:02<00:00,  2.93it/s]\n"
          ]
        },
        {
          "output_type": "stream",
          "name": "stdout",
          "text": [
            "F1_object :\n",
            " tensor(0.9794)\n",
            "CFM_cat_or_dog :\n",
            " tensor([[ 26,   0,   2],\n",
            "        [  1,  50,   0],\n",
            "        [  3,   1, 111]])\n",
            "CFM_specie :\n",
            " tensor([[27,  0,  0,  0,  1,  0,  0,  0,  0,  0],\n",
            "        [ 1, 16,  0,  0,  0,  0,  0,  0,  0,  0],\n",
            "        [ 0, 10,  7,  3,  0,  0,  0,  0,  0,  0],\n",
            "        [ 0,  6,  0,  8,  0,  0,  0,  0,  0,  0],\n",
            "        [ 0,  0,  0,  0, 18,  0,  0,  0,  0,  0],\n",
            "        [ 0,  3,  0,  2,  0, 16,  0,  0,  0,  2],\n",
            "        [ 0,  1,  0,  0,  3,  0, 13,  0,  0,  0],\n",
            "        [ 1,  0,  0,  0,  3,  0,  3, 13,  0,  0],\n",
            "        [ 2,  1,  0,  0, 14,  0,  2,  0,  1,  0],\n",
            "        [ 1,  2,  0,  0,  0,  0,  6,  1,  0,  7]])\n",
            "MAP_bbox :\n",
            " {'map': tensor(0.0821), 'map_50': tensor(0.2423), 'map_75': tensor(0.0179), 'map_small': tensor(-1.), 'map_medium': tensor(0.), 'map_large': tensor(0.0862), 'mar_1': tensor(0.0602), 'mar_10': tensor(0.1109), 'mar_100': tensor(0.1115), 'mar_small': tensor(-1.), 'mar_medium': tensor(0.), 'mar_large': tensor(0.1170), 'map_per_class': tensor(-1.), 'mar_100_per_class': tensor(-1.)}\n"
          ]
        },
        {
          "output_type": "stream",
          "name": "stderr",
          "text": [
            "   0.08488    0.7078    0.0676    0.5899     1.406: 100%|██████████| 13/13 [00:18<00:00,  1.44s/it]\n"
          ]
        },
        {
          "output_type": "stream",
          "name": "stdout",
          "text": [
            " Epoch 7 Loss : 18.852532386779785\n"
          ]
        },
        {
          "output_type": "stream",
          "name": "stderr",
          "text": [
            "100%|██████████| 7/7 [00:03<00:00,  2.18it/s]\n"
          ]
        },
        {
          "output_type": "stream",
          "name": "stdout",
          "text": [
            "F1_object :\n",
            " tensor(0.9852)\n",
            "CFM_cat_or_dog :\n",
            " tensor([[ 24,   0,   4],\n",
            "        [  1,  49,   1],\n",
            "        [  0,   0, 115]])\n",
            "CFM_specie :\n",
            " tensor([[25,  1,  0,  0,  0,  0,  0,  1,  0,  1],\n",
            "        [ 0, 16,  0,  0,  0,  0,  0,  0,  0,  1],\n",
            "        [ 0,  1, 18,  1,  0,  0,  0,  0,  0,  0],\n",
            "        [ 0,  0,  1, 12,  0,  1,  0,  0,  0,  0],\n",
            "        [ 0,  0,  0,  0, 13,  0,  0,  3,  2,  0],\n",
            "        [ 0,  0,  0,  1,  0, 22,  0,  0,  0,  0],\n",
            "        [ 0,  0,  0,  0,  1,  0,  7,  2,  0,  7],\n",
            "        [ 0,  0,  0,  0,  0,  0,  2, 17,  1,  0],\n",
            "        [ 2,  1,  0,  0,  3,  0,  2,  1, 11,  0],\n",
            "        [ 0,  0,  0,  0,  0,  0,  0,  1,  0, 16]])\n",
            "MAP_bbox :\n",
            " {'map': tensor(0.1119), 'map_50': tensor(0.3216), 'map_75': tensor(0.0479), 'map_small': tensor(-1.), 'map_medium': tensor(0.), 'map_large': tensor(0.1173), 'mar_1': tensor(0.0768), 'mar_10': tensor(0.1441), 'mar_100': tensor(0.1441), 'mar_small': tensor(-1.), 'mar_medium': tensor(0.), 'mar_large': tensor(0.1513), 'map_per_class': tensor(-1.), 'mar_100_per_class': tensor(-1.)}\n"
          ]
        },
        {
          "output_type": "stream",
          "name": "stderr",
          "text": [
            "   0.05919    0.5682   0.03409    0.5761    0.9878: 100%|██████████| 13/13 [00:19<00:00,  1.51s/it]\n"
          ]
        },
        {
          "output_type": "stream",
          "name": "stdout",
          "text": [
            " Epoch 8 Loss : 16.08943283557892\n"
          ]
        },
        {
          "output_type": "stream",
          "name": "stderr",
          "text": [
            "100%|██████████| 7/7 [00:02<00:00,  2.74it/s]\n"
          ]
        },
        {
          "output_type": "stream",
          "name": "stdout",
          "text": [
            "F1_object :\n",
            " tensor(0.9910)\n",
            "CFM_cat_or_dog :\n",
            " tensor([[ 25,   1,   2],\n",
            "        [  0,  51,   0],\n",
            "        [  0,   3, 112]])\n",
            "CFM_specie :\n",
            " tensor([[26,  1,  0,  0,  0,  0,  0,  1,  0,  0],\n",
            "        [ 0, 17,  0,  0,  0,  0,  0,  0,  0,  0],\n",
            "        [ 0,  3, 13,  4,  0,  0,  0,  0,  0,  0],\n",
            "        [ 0,  1,  0, 12,  0,  1,  0,  0,  0,  0],\n",
            "        [ 0,  0,  0,  0,  0,  0,  0,  1, 17,  0],\n",
            "        [ 0,  0,  0,  1,  0, 22,  0,  0,  0,  0],\n",
            "        [ 0,  0,  0,  0,  0,  1,  5,  2,  1,  8],\n",
            "        [ 1,  0,  0,  0,  0,  0,  1, 13,  4,  1],\n",
            "        [ 1,  1,  0,  0,  0,  1,  0,  0, 15,  2],\n",
            "        [ 0,  0,  0,  0,  0,  2,  0,  1,  0, 14]])\n",
            "MAP_bbox :\n",
            " {'map': tensor(0.0794), 'map_50': tensor(0.2617), 'map_75': tensor(0.0329), 'map_small': tensor(-1.), 'map_medium': tensor(0.), 'map_large': tensor(0.0837), 'mar_1': tensor(0.0586), 'mar_10': tensor(0.1145), 'mar_100': tensor(0.1145), 'mar_small': tensor(-1.), 'mar_medium': tensor(0.), 'mar_large': tensor(0.1205), 'map_per_class': tensor(-1.), 'mar_100_per_class': tensor(-1.)}\n"
          ]
        },
        {
          "output_type": "stream",
          "name": "stderr",
          "text": [
            "   0.03777    0.4509   0.02148    0.5658    0.9385: 100%|██████████| 13/13 [00:19<00:00,  1.50s/it]\n"
          ]
        },
        {
          "output_type": "stream",
          "name": "stdout",
          "text": [
            " Epoch 9 Loss : 13.987280309200287\n"
          ]
        },
        {
          "output_type": "stream",
          "name": "stderr",
          "text": [
            "100%|██████████| 7/7 [00:02<00:00,  2.92it/s]\n"
          ]
        },
        {
          "output_type": "stream",
          "name": "stdout",
          "text": [
            "F1_object :\n",
            " tensor(0.9880)\n",
            "CFM_cat_or_dog :\n",
            " tensor([[ 26,   0,   2],\n",
            "        [  1,  50,   0],\n",
            "        [  1,   0, 114]])\n",
            "CFM_specie :\n",
            " tensor([[26,  1,  0,  0,  0,  0,  0,  0,  1,  0],\n",
            "        [ 0, 15,  0,  0,  0,  0,  0,  0,  0,  2],\n",
            "        [ 0,  5, 14,  1,  0,  0,  0,  0,  0,  0],\n",
            "        [ 0,  8,  0,  5,  0,  0,  0,  0,  0,  1],\n",
            "        [ 0,  0,  0,  0,  7,  0,  0,  0, 11,  0],\n",
            "        [ 0,  0,  0,  0,  0,  7,  0,  0,  0, 16],\n",
            "        [ 0,  0,  0,  0,  1,  0,  2,  1,  0, 13],\n",
            "        [ 1,  0,  0,  0,  0,  0,  9,  4,  3,  3],\n",
            "        [ 3,  0,  0,  0,  1,  0,  1,  0, 13,  2],\n",
            "        [ 0,  0,  0,  0,  0,  0,  0,  1,  0, 16]])\n",
            "MAP_bbox :\n",
            " {'map': tensor(0.0453), 'map_50': tensor(0.1136), 'map_75': tensor(0.0219), 'map_small': tensor(-1.), 'map_medium': tensor(0.), 'map_large': tensor(0.0488), 'mar_1': tensor(0.0386), 'mar_10': tensor(0.0690), 'mar_100': tensor(0.0690), 'mar_small': tensor(-1.), 'mar_medium': tensor(0.), 'mar_large': tensor(0.0736), 'map_per_class': tensor(-1.), 'mar_100_per_class': tensor(-1.)}\n"
          ]
        },
        {
          "output_type": "stream",
          "name": "stderr",
          "text": [
            "   0.02168    0.3697   0.01777    0.5479    0.9808: 100%|██████████| 13/13 [00:19<00:00,  1.49s/it]\n"
          ]
        },
        {
          "output_type": "stream",
          "name": "stdout",
          "text": [
            " Epoch 10 Loss : 12.44229793548584\n"
          ]
        },
        {
          "output_type": "stream",
          "name": "stderr",
          "text": [
            "100%|██████████| 7/7 [00:02<00:00,  2.88it/s]\n"
          ]
        },
        {
          "output_type": "stream",
          "name": "stdout",
          "text": [
            "F1_object :\n",
            " tensor(0.9910)\n",
            "CFM_cat_or_dog :\n",
            " tensor([[ 25,   0,   3],\n",
            "        [  1,  49,   1],\n",
            "        [  0,   1, 114]])\n",
            "CFM_specie :\n",
            " tensor([[25,  0,  0,  0,  0,  0,  0,  1,  2,  0],\n",
            "        [ 1, 15,  0,  1,  0,  0,  0,  0,  0,  0],\n",
            "        [ 0,  1, 17,  2,  0,  0,  0,  0,  0,  0],\n",
            "        [ 0,  0,  2, 12,  0,  0,  0,  0,  0,  0],\n",
            "        [ 0,  0,  0,  0, 12,  0,  0,  1,  5,  0],\n",
            "        [ 0,  0,  0,  1,  0, 21,  0,  0,  0,  1],\n",
            "        [ 0,  0,  0,  0,  1,  0,  9,  2,  0,  5],\n",
            "        [ 0,  0,  0,  0,  0,  0,  0, 20,  0,  0],\n",
            "        [ 1,  0,  0,  0,  2,  0,  0,  1, 16,  0],\n",
            "        [ 0,  0,  0,  0,  0,  0,  0,  1,  0, 16]])\n",
            "MAP_bbox :\n",
            " {'map': tensor(0.1121), 'map_50': tensor(0.3526), 'map_75': tensor(0.0514), 'map_small': tensor(-1.), 'map_medium': tensor(0.), 'map_large': tensor(0.1168), 'mar_1': tensor(0.0701), 'mar_10': tensor(0.1540), 'mar_100': tensor(0.1540), 'mar_small': tensor(-1.), 'mar_medium': tensor(0.), 'mar_large': tensor(0.1617), 'map_per_class': tensor(-1.), 'mar_100_per_class': tensor(-1.)}\n"
          ]
        },
        {
          "output_type": "stream",
          "name": "stderr",
          "text": [
            "   0.01767    0.2805   0.01624    0.5424    0.8158: 100%|██████████| 13/13 [00:19<00:00,  1.48s/it]\n"
          ]
        },
        {
          "output_type": "stream",
          "name": "stdout",
          "text": [
            " Epoch 11 Loss : 11.13950490951538\n"
          ]
        },
        {
          "output_type": "stream",
          "name": "stderr",
          "text": [
            "100%|██████████| 7/7 [00:02<00:00,  2.88it/s]\n"
          ]
        },
        {
          "output_type": "stream",
          "name": "stdout",
          "text": [
            "F1_object :\n",
            " tensor(0.9881)\n",
            "CFM_cat_or_dog :\n",
            " tensor([[ 25,   0,   3],\n",
            "        [  1,  48,   2],\n",
            "        [  0,   1, 114]])\n",
            "CFM_specie :\n",
            " tensor([[25,  0,  0,  0,  0,  0,  0,  0,  3,  0],\n",
            "        [ 1, 15,  0,  0,  0,  0,  0,  0,  1,  0],\n",
            "        [ 0,  0, 19,  0,  0,  0,  0,  0,  1,  0],\n",
            "        [ 0,  1,  3, 10,  0,  0,  0,  0,  0,  0],\n",
            "        [ 0,  0,  0,  0, 12,  0,  0,  0,  6,  0],\n",
            "        [ 0,  1,  0,  0,  0, 17,  0,  0,  0,  5],\n",
            "        [ 0,  0,  0,  0,  1,  0,  6,  1,  2,  7],\n",
            "        [ 0,  0,  0,  0,  0,  0,  0, 15,  5,  0],\n",
            "        [ 0,  0,  0,  0,  1,  0,  0,  0, 19,  0],\n",
            "        [ 0,  0,  0,  0,  0,  0,  0,  0,  1, 16]])\n",
            "MAP_bbox :\n",
            " {'map': tensor(0.0953), 'map_50': tensor(0.2728), 'map_75': tensor(0.0345), 'map_small': tensor(-1.), 'map_medium': tensor(0.), 'map_large': tensor(0.1003), 'mar_1': tensor(0.0706), 'mar_10': tensor(0.1332), 'mar_100': tensor(0.1337), 'mar_small': tensor(-1.), 'mar_medium': tensor(0.), 'mar_large': tensor(0.1405), 'map_per_class': tensor(-1.), 'mar_100_per_class': tensor(-1.)}\n"
          ]
        },
        {
          "output_type": "stream",
          "name": "stderr",
          "text": [
            "   0.01585    0.2142   0.01395    0.5398    0.6728: 100%|██████████| 13/13 [00:18<00:00,  1.46s/it]\n"
          ]
        },
        {
          "output_type": "stream",
          "name": "stdout",
          "text": [
            " Epoch 12 Loss : 10.18945324420929\n"
          ]
        },
        {
          "output_type": "stream",
          "name": "stderr",
          "text": [
            "100%|██████████| 7/7 [00:02<00:00,  2.50it/s]\n"
          ]
        },
        {
          "output_type": "stream",
          "name": "stdout",
          "text": [
            "F1_object :\n",
            " tensor(0.9881)\n",
            "CFM_cat_or_dog :\n",
            " tensor([[ 25,   0,   3],\n",
            "        [  1,  49,   1],\n",
            "        [  0,   1, 114]])\n",
            "CFM_specie :\n",
            " tensor([[26,  0,  0,  0,  0,  0,  0,  0,  2,  0],\n",
            "        [ 0, 15,  0,  0,  0,  0,  0,  0,  0,  2],\n",
            "        [ 0,  0, 20,  0,  0,  0,  0,  0,  0,  0],\n",
            "        [ 0,  1,  3, 10,  0,  0,  0,  0,  0,  0],\n",
            "        [ 0,  0,  0,  0,  7,  0,  0,  2,  9,  0],\n",
            "        [ 0,  0,  0,  0,  0, 21,  0,  0,  0,  2],\n",
            "        [ 0,  0,  0,  0,  1,  0, 12,  2,  0,  2],\n",
            "        [ 0,  0,  0,  0,  0,  0,  0, 19,  1,  0],\n",
            "        [ 0,  0,  0,  0,  0,  0,  0,  2, 18,  0],\n",
            "        [ 0,  0,  0,  0,  0,  0,  0,  1,  0, 16]])\n",
            "MAP_bbox :\n",
            " {'map': tensor(0.1089), 'map_50': tensor(0.3168), 'map_75': tensor(0.0504), 'map_small': tensor(-1.), 'map_medium': tensor(0.), 'map_large': tensor(0.1146), 'mar_1': tensor(0.0704), 'mar_10': tensor(0.1498), 'mar_100': tensor(0.1498), 'mar_small': tensor(-1.), 'mar_medium': tensor(0.), 'mar_large': tensor(0.1576), 'map_per_class': tensor(-1.), 'mar_100_per_class': tensor(-1.)}\n"
          ]
        },
        {
          "output_type": "stream",
          "name": "stderr",
          "text": [
            "   0.01023    0.2083  0.009791    0.5359     0.951: 100%|██████████| 13/13 [00:18<00:00,  1.45s/it]\n"
          ]
        },
        {
          "output_type": "stream",
          "name": "stdout",
          "text": [
            " Epoch 13 Loss : 9.93429982662201\n"
          ]
        },
        {
          "output_type": "stream",
          "name": "stderr",
          "text": [
            "100%|██████████| 7/7 [00:02<00:00,  2.63it/s]\n"
          ]
        },
        {
          "output_type": "stream",
          "name": "stdout",
          "text": [
            "F1_object :\n",
            " tensor(0.9910)\n",
            "CFM_cat_or_dog :\n",
            " tensor([[ 26,   0,   2],\n",
            "        [  1,  50,   0],\n",
            "        [  1,   1, 113]])\n",
            "CFM_specie :\n",
            " tensor([[27,  0,  0,  0,  0,  0,  0,  1,  0,  0],\n",
            "        [ 1, 15,  0,  1,  0,  0,  0,  0,  0,  0],\n",
            "        [ 0,  0, 18,  2,  0,  0,  0,  0,  0,  0],\n",
            "        [ 0,  0,  0, 14,  0,  0,  0,  0,  0,  0],\n",
            "        [ 0,  0,  0,  0, 12,  0,  0,  0,  6,  0],\n",
            "        [ 0,  0,  0,  0,  0, 23,  0,  0,  0,  0],\n",
            "        [ 0,  0,  0,  0,  1,  0, 13,  2,  0,  1],\n",
            "        [ 0,  0,  0,  0,  0,  0,  0, 20,  0,  0],\n",
            "        [ 1,  0,  0,  0,  0,  0,  0,  0, 19,  0],\n",
            "        [ 0,  0,  0,  0,  0,  0,  0,  0,  1, 16]])\n",
            "MAP_bbox :\n",
            " {'map': tensor(0.1264), 'map_50': tensor(0.3861), 'map_75': tensor(0.0619), 'map_small': tensor(-1.), 'map_medium': tensor(0.), 'map_large': tensor(0.1312), 'mar_1': tensor(0.0770), 'mar_10': tensor(0.1776), 'mar_100': tensor(0.1776), 'mar_small': tensor(-1.), 'mar_medium': tensor(0.), 'mar_large': tensor(0.1851), 'map_per_class': tensor(-1.), 'mar_100_per_class': tensor(-1.)}\n"
          ]
        },
        {
          "output_type": "stream",
          "name": "stderr",
          "text": [
            "   0.01068    0.1816   0.01198    0.5316    0.8353: 100%|██████████| 13/13 [00:19<00:00,  1.47s/it]\n"
          ]
        },
        {
          "output_type": "stream",
          "name": "stdout",
          "text": [
            " Epoch 14 Loss : 9.566650152206421\n"
          ]
        },
        {
          "output_type": "stream",
          "name": "stderr",
          "text": [
            "100%|██████████| 7/7 [00:02<00:00,  2.84it/s]\n"
          ]
        },
        {
          "output_type": "stream",
          "name": "stdout",
          "text": [
            "F1_object :\n",
            " tensor(0.9881)\n",
            "CFM_cat_or_dog :\n",
            " tensor([[ 24,   1,   3],\n",
            "        [  1,  50,   0],\n",
            "        [  0,   1, 114]])\n",
            "CFM_specie :\n",
            " tensor([[25,  0,  0,  0,  0,  0,  0,  1,  2,  0],\n",
            "        [ 1, 15,  0,  1,  0,  0,  0,  0,  0,  0],\n",
            "        [ 0,  0, 19,  1,  0,  0,  0,  0,  0,  0],\n",
            "        [ 0,  1,  0, 13,  0,  0,  0,  0,  0,  0],\n",
            "        [ 0,  0,  0,  0,  7,  0,  0,  0, 11,  0],\n",
            "        [ 0,  1,  0,  1,  0, 18,  0,  0,  0,  3],\n",
            "        [ 0,  0,  0,  0,  1,  0, 11,  2,  0,  3],\n",
            "        [ 0,  0,  0,  0,  0,  0,  0, 18,  2,  0],\n",
            "        [ 0,  0,  0,  0,  0,  0,  0,  0, 20,  0],\n",
            "        [ 0,  0,  0,  0,  0,  0,  0,  0,  1, 16]])\n",
            "MAP_bbox :\n",
            " {'map': tensor(0.1208), 'map_50': tensor(0.3552), 'map_75': tensor(0.0490), 'map_small': tensor(-1.), 'map_medium': tensor(0.), 'map_large': tensor(0.1263), 'mar_1': tensor(0.0687), 'mar_10': tensor(0.1664), 'mar_100': tensor(0.1664), 'mar_small': tensor(-1.), 'mar_medium': tensor(0.), 'mar_large': tensor(0.1748), 'map_per_class': tensor(-1.), 'mar_100_per_class': tensor(-1.)}\n"
          ]
        }
      ],
      "source": [
        "train(15)"
      ]
    },
    {
      "cell_type": "code",
      "source": [
        "train(11, 'model.pth')"
      ],
      "metadata": {
        "id": "94NNTV3nUseM",
        "colab": {
          "base_uri": "https://localhost:8080/"
        },
        "outputId": "18a9d570-dc20-4bb2-853d-2e5a74b72516"
      },
      "execution_count": 104,
      "outputs": [
        {
          "output_type": "stream",
          "name": "stdout",
          "text": [
            "Already trained for 15 epochs\n"
          ]
        }
      ]
    },
    {
      "cell_type": "code",
      "source": [
        "results = visualize('model.pth', '/content/assessment_dataset/images')"
      ],
      "metadata": {
        "id": "tyjICQUsWbYc",
        "colab": {
          "base_uri": "https://localhost:8080/"
        },
        "outputId": "f54a7e68-99ba-4ba1-b138-31222fc0cc78"
      },
      "execution_count": 109,
      "outputs": [
        {
          "output_type": "stream",
          "name": "stderr",
          "text": [
            "100%|██████████| 247/247 [00:26<00:00,  9.47it/s]\n"
          ]
        }
      ]
    },
    {
      "cell_type": "code",
      "source": [],
      "metadata": {
        "id": "fw4n-Rvw_Otb"
      },
      "execution_count": null,
      "outputs": []
    }
  ],
  "metadata": {
    "accelerator": "GPU",
    "colab": {
      "provenance": [],
      "gpuType": "T4"
    },
    "gpuClass": "standard",
    "kernelspec": {
      "display_name": "Python 3",
      "name": "python3"
    },
    "language_info": {
      "name": "python"
    }
  },
  "nbformat": 4,
  "nbformat_minor": 0
}